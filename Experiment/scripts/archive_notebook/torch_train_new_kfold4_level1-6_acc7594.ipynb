{
 "cells": [
  {
   "cell_type": "code",
   "execution_count": 1,
   "id": "a535720c",
   "metadata": {},
   "outputs": [
    {
     "name": "stderr",
     "output_type": "stream",
     "text": [
      "/home/vincent0730/ML_pondlet_level_predictor/venv/lib/python3.6/site-packages/tqdm/auto.py:22: TqdmWarning: IProgress not found. Please update jupyter and ipywidgets. See https://ipywidgets.readthedocs.io/en/stable/user_install.html\n",
      "  from .autonotebook import tqdm as notebook_tqdm\n"
     ]
    }
   ],
   "source": [
    "import torch\n",
    "from utils import process_dataset\n",
    "from argparse import ArgumentParser\n",
    "from sklearn.model_selection import train_test_split\n",
    "from sklearn import preprocessing\n",
    "from sklearn.model_selection import StratifiedKFold\n",
    "from sklearn.metrics import confusion_matrix\n",
    "from tqdm import tqdm\n",
    "import numpy as np\n",
    "import random\n",
    "\n",
    "seed = 123\n",
    "torch.manual_seed(seed)\n",
    "random.seed(seed)\n",
    "np.random.seed(seed)"
   ]
  },
  {
   "cell_type": "code",
   "execution_count": 2,
   "id": "ef52c00c",
   "metadata": {},
   "outputs": [
    {
     "name": "stdout",
     "output_type": "stream",
     "text": [
      "datasets ../datasets/pondlet_STB_HSK3_20220614_new_with_review_label.csv\n",
      "len-balance_data(one) 1616\n"
     ]
    }
   ],
   "source": [
    "# datasets = \"../datasets/pondlet_gloss_HSK3_2021-all.csv;../datasets/pondlet_STB_HSK3_2021-all.csv\"\n",
    "datasets = \"../datasets/pondlet_STB_HSK3_20220614_new_with_review_label.csv\"\n",
    "balance_data = process_dataset(datasets)\n",
    "balance_data.drop(\"ID\", inplace=True, axis=1)\n",
    "#balance_data.drop(\"None\", inplace=True, axis=1)\n",
    "#balance_data.drop(\"7-9\", inplace=True, axis=1)\n",
    "balance_data.drop(balance_data[balance_data.Label == \"Lv.7-9\"].index, inplace=True, axis=0)"
   ]
  },
  {
   "cell_type": "code",
   "execution_count": 3,
   "id": "1e8ba7ba",
   "metadata": {},
   "outputs": [
    {
     "data": {
      "text/html": [
       "<div>\n",
       "<style scoped>\n",
       "    .dataframe tbody tr th:only-of-type {\n",
       "        vertical-align: middle;\n",
       "    }\n",
       "\n",
       "    .dataframe tbody tr th {\n",
       "        vertical-align: top;\n",
       "    }\n",
       "\n",
       "    .dataframe thead th {\n",
       "        text-align: right;\n",
       "    }\n",
       "</style>\n",
       "<table border=\"1\" class=\"dataframe\">\n",
       "  <thead>\n",
       "    <tr style=\"text-align: right;\">\n",
       "      <th></th>\n",
       "      <th>Label</th>\n",
       "      <th>Length</th>\n",
       "      <th>1</th>\n",
       "      <th>2</th>\n",
       "      <th>3</th>\n",
       "      <th>4</th>\n",
       "      <th>5</th>\n",
       "      <th>6</th>\n",
       "      <th>7-9</th>\n",
       "      <th>None</th>\n",
       "    </tr>\n",
       "  </thead>\n",
       "  <tbody>\n",
       "    <tr>\n",
       "      <th>0</th>\n",
       "      <td>Lv.1</td>\n",
       "      <td>100</td>\n",
       "      <td>48</td>\n",
       "      <td>3</td>\n",
       "      <td>10</td>\n",
       "      <td>0</td>\n",
       "      <td>0</td>\n",
       "      <td>0</td>\n",
       "      <td>8</td>\n",
       "      <td>1</td>\n",
       "    </tr>\n",
       "    <tr>\n",
       "      <th>1</th>\n",
       "      <td>Lv.4</td>\n",
       "      <td>314</td>\n",
       "      <td>107</td>\n",
       "      <td>39</td>\n",
       "      <td>12</td>\n",
       "      <td>13</td>\n",
       "      <td>5</td>\n",
       "      <td>4</td>\n",
       "      <td>22</td>\n",
       "      <td>0</td>\n",
       "    </tr>\n",
       "    <tr>\n",
       "      <th>2</th>\n",
       "      <td>Lv.1</td>\n",
       "      <td>38</td>\n",
       "      <td>24</td>\n",
       "      <td>0</td>\n",
       "      <td>0</td>\n",
       "      <td>0</td>\n",
       "      <td>0</td>\n",
       "      <td>0</td>\n",
       "      <td>0</td>\n",
       "      <td>0</td>\n",
       "    </tr>\n",
       "    <tr>\n",
       "      <th>3</th>\n",
       "      <td>Lv.6</td>\n",
       "      <td>610</td>\n",
       "      <td>166</td>\n",
       "      <td>63</td>\n",
       "      <td>58</td>\n",
       "      <td>36</td>\n",
       "      <td>12</td>\n",
       "      <td>27</td>\n",
       "      <td>24</td>\n",
       "      <td>5</td>\n",
       "    </tr>\n",
       "    <tr>\n",
       "      <th>4</th>\n",
       "      <td>Lv.3</td>\n",
       "      <td>253</td>\n",
       "      <td>85</td>\n",
       "      <td>30</td>\n",
       "      <td>6</td>\n",
       "      <td>4</td>\n",
       "      <td>9</td>\n",
       "      <td>2</td>\n",
       "      <td>4</td>\n",
       "      <td>8</td>\n",
       "    </tr>\n",
       "  </tbody>\n",
       "</table>\n",
       "</div>"
      ],
      "text/plain": [
       "  Label  Length    1   2   3   4   5   6  7-9  None\n",
       "0  Lv.1     100   48   3  10   0   0   0    8     1\n",
       "1  Lv.4     314  107  39  12  13   5   4   22     0\n",
       "2  Lv.1      38   24   0   0   0   0   0    0     0\n",
       "3  Lv.6     610  166  63  58  36  12  27   24     5\n",
       "4  Lv.3     253   85  30   6   4   9   2    4     8"
      ]
     },
     "execution_count": 3,
     "metadata": {},
     "output_type": "execute_result"
    }
   ],
   "source": [
    "balance_data.head()"
   ]
  },
  {
   "cell_type": "code",
   "execution_count": 4,
   "id": "f6dd3f88",
   "metadata": {},
   "outputs": [
    {
     "data": {
      "text/plain": [
       "Lv.4    613\n",
       "Lv.5    292\n",
       "Lv.3    279\n",
       "Lv.2    144\n",
       "Lv.1    137\n",
       "Lv.6    136\n",
       "Name: Label, dtype: int64"
      ]
     },
     "execution_count": 4,
     "metadata": {},
     "output_type": "execute_result"
    }
   ],
   "source": [
    "balance_data.Label.value_counts()"
   ]
  },
  {
   "cell_type": "code",
   "execution_count": 5,
   "id": "d4745ede",
   "metadata": {},
   "outputs": [
    {
     "data": {
      "image/png": "[encoded data removed]",
      "text/plain": [
       "<Figure size 432x288 with 1 Axes>"
      ]
     },
     "metadata": {
      "needs_background": "light"
     },
     "output_type": "display_data"
    }
   ],
   "source": [
    "balance_data.Label.value_counts().plot.bar(rot=0);"
   ]
  },
  {
   "cell_type": "code",
   "execution_count": 6,
   "id": "6440b543",
   "metadata": {},
   "outputs": [
    {
     "name": "stdout",
     "output_type": "stream",
     "text": [
      "['Lv.1' 'Lv.2' 'Lv.3' 'Lv.4' 'Lv.5' 'Lv.6']\n"
     ]
    }
   ],
   "source": [
    "X = balance_data.iloc[:, 1:].to_numpy()\n",
    "\n",
    "le = preprocessing.LabelEncoder()\n",
    "le.fit(balance_data.Label)\n",
    "balance_data['categorical_label'] = le.transform(balance_data.Label)\n",
    "y = balance_data.iloc[:, -1].to_numpy()\n",
    "\n",
    "\n",
    "# ['Lv.1' 'Lv.2' 'Lv.3' 'Lv.4' 'Lv.5' 'Lv.6']\n",
    "print(le.classes_)\n",
    "\n",
    "\n",
    "X_tmp, X_test, y_tmp, y_test = train_test_split(X, y, test_size=0.1, stratify=y, random_state=42)\n",
    "# X_train, X_val, y_train, y_val = train_test_split(X_tmp, y_tmp, test_size=0.1, stratify=y_tmp, random_state=42)"
   ]
  },
  {
   "cell_type": "code",
   "execution_count": 7,
   "id": "25facac4",
   "metadata": {},
   "outputs": [
    {
     "data": {
      "text/plain": [
       "array(['Lv.1'], dtype=object)"
      ]
     },
     "execution_count": 7,
     "metadata": {},
     "output_type": "execute_result"
    }
   ],
   "source": [
    "le.inverse_transform([y_tmp[0]])"
   ]
  },
  {
   "cell_type": "code",
   "execution_count": 8,
   "id": "1ece6ea7",
   "metadata": {},
   "outputs": [
    {
     "data": {
      "text/plain": [
       "['Lv.1', 'Lv.2', 'Lv.3', 'Lv.4', 'Lv.5', 'Lv.6']"
      ]
     },
     "execution_count": 8,
     "metadata": {},
     "output_type": "execute_result"
    }
   ],
   "source": [
    "le.classes_.tolist()"
   ]
  },
  {
   "cell_type": "code",
   "execution_count": 9,
   "id": "2c7e7ce3",
   "metadata": {},
   "outputs": [],
   "source": [
    "import torch\n",
    "import torch.nn.functional as F\n",
    "import torch.nn as nn"
   ]
  },
  {
   "cell_type": "code",
   "execution_count": 10,
   "id": "0dfd247e",
   "metadata": {},
   "outputs": [],
   "source": [
    "class Model(nn.Module):\n",
    "\n",
    "    def __init__(self, input_dim, output_dim):\n",
    "        super(Model, self).__init__()\n",
    "        self.layer1 = nn.Linear(input_dim, 8)\n",
    "        self.layer2 = nn.Linear(8, 16)\n",
    "        self.layer3 = nn.Linear(16, 24)\n",
    "        self.layer4 = nn.Linear(24, 32)\n",
    "        self.layer5 = nn.Linear(32, 64)\n",
    "        self.layer6 = nn.Linear(64, 32)\n",
    "        self.layer7 = nn.Linear(32, 24)\n",
    "        self.layer8 = nn.Linear(24, 16)\n",
    "        self.layer9 = nn.Linear(16, output_dim)\n",
    "\n",
    "    def forward(self, x):\n",
    "        x = F.relu(self.layer1(x))\n",
    "        x = F.relu(self.layer2(x))\n",
    "        x = F.relu(self.layer3(x))\n",
    "        x = F.relu(self.layer4(x))\n",
    "        x = F.relu(self.layer5(x))\n",
    "        x = F.relu(self.layer6(x))\n",
    "        x = F.relu(self.layer7(x))\n",
    "        x = F.relu(self.layer8(x))\n",
    "        return self.layer9(x)\n"
   ]
  },
  {
   "cell_type": "code",
   "execution_count": 11,
   "id": "84eaba13",
   "metadata": {},
   "outputs": [],
   "source": [
    "from torch.utils.data import Dataset\n",
    "\n",
    "\n",
    "class CustomDataset(Dataset):\n",
    "    def __init__(self, x, y):\n",
    "        self.x = x\n",
    "        self.y = y\n",
    "\n",
    "    def __len__(self):\n",
    "        return len(self.x)\n",
    "\n",
    "    def __getitem__(self, idx):        \n",
    "        return self.x[idx], self.y[idx]"
   ]
  },
  {
   "cell_type": "code",
   "execution_count": 12,
   "id": "7fa1c72e",
   "metadata": {},
   "outputs": [],
   "source": [
    "from torch.utils.data import DataLoader\n",
    "\n",
    "X_test = torch.FloatTensor(X_test)\n",
    "y_test = torch.LongTensor(y_test)\n",
    "test = CustomDataset(X_test, y_test)\n",
    "test_dataloader = DataLoader(test, batch_size=1, shuffle=True)"
   ]
  },
  {
   "cell_type": "code",
   "execution_count": 13,
   "id": "aac3cd79",
   "metadata": {},
   "outputs": [],
   "source": [
    "loss_fn   = nn.CrossEntropyLoss()"
   ]
  },
  {
   "cell_type": "code",
   "execution_count": 14,
   "id": "258b6226",
   "metadata": {},
   "outputs": [],
   "source": [
    "def train_one_epoch(train_dataloader, model, optimizer):\n",
    "\n",
    "    train_correct = 0\n",
    "    train_total = 0\n",
    "    train_loss = 0.0\n",
    "\n",
    "    for i, data in enumerate(train_dataloader, 0):\n",
    "\n",
    "        inputs, labels = data\n",
    "\n",
    "        optimizer.zero_grad()\n",
    "        outputs = model(inputs)\n",
    "        loss = loss_fn(outputs, labels)\n",
    "        loss.backward()\n",
    "        optimizer.step()\n",
    "        train_loss += loss.item()\n",
    "\n",
    "        values, indices = torch.max(outputs.data, 1)\n",
    "        train_total += labels.size(0)\n",
    "        train_correct += (indices == labels).sum().item()\n",
    "\n",
    "    acc = 100 * train_correct / train_total\n",
    "    loss = train_loss / len(train_dataloader)\n",
    "    return acc, loss"
   ]
  },
  {
   "cell_type": "code",
   "execution_count": 15,
   "id": "07392bac",
   "metadata": {},
   "outputs": [],
   "source": [
    "def val_one_epoch(val_dataloader, model):\n",
    "\n",
    "    val_correct = 0\n",
    "    val_total = 0\n",
    "    val_loss = 0\n",
    "\n",
    "    with torch.no_grad():\n",
    "\n",
    "        for data in val_dataloader:\n",
    "\n",
    "            inputs, labels = data\n",
    "            outputs = model(inputs)\n",
    "\n",
    "            loss = loss_fn(outputs, labels)\n",
    "            val_loss += loss.item()\n",
    "\n",
    "            values, indices = torch.max(outputs.data, 1)\n",
    "            val_total += labels.size(0)\n",
    "            val_correct += (indices == labels).sum().item()\n",
    "\n",
    "    acc = 100 * val_correct / val_total\n",
    "    loss = val_loss / len(val_dataloader)\n",
    "    return acc, loss"
   ]
  },
  {
   "cell_type": "code",
   "execution_count": 16,
   "id": "9fb4f37e",
   "metadata": {},
   "outputs": [],
   "source": [
    "def test_at_final(test_dataloader, model):\n",
    "\n",
    "    test_correct = 0\n",
    "    test_total = 0\n",
    "    y_true, y_pred = [], []\n",
    "    \n",
    "    with torch.no_grad():\n",
    "\n",
    "        for data in test_dataloader:\n",
    "\n",
    "            inputs, labels = data\n",
    "            outputs = model(inputs)\n",
    "            values, indices = torch.max(outputs.data, 1)\n",
    "            # 忽略label是lv.6，預測不是lv.6的錯誤\n",
    "            # if labels.item() == 5 and indices.item() != 5:\n",
    "            #     continue\n",
    "\n",
    "            # # 忽略label不是lv.6，預測是lv.6的錯誤\n",
    "            # if labels.item() != 5 and indices.item() == 5:\n",
    "            #     continue\n",
    "\n",
    "            test_total += labels.size(0)\n",
    "            test_correct += (indices == labels).sum().item()\n",
    "            \n",
    "\n",
    "            y_true.extend(labels.tolist())\n",
    "            y_pred.extend(indices.tolist())\n",
    "\n",
    "    acc = 100 * test_correct / test_total\n",
    "    array = confusion_matrix(y_true, y_pred)\n",
    "    return acc, array"
   ]
  },
  {
   "cell_type": "code",
   "execution_count": 17,
   "id": "f1d6a391",
   "metadata": {},
   "outputs": [
    {
     "data": {
      "text/plain": [
       "((1440, 9), torch.Size([161, 9]))"
      ]
     },
     "execution_count": 17,
     "metadata": {},
     "output_type": "execute_result"
    }
   ],
   "source": [
    "X_tmp.shape, X_test.shape"
   ]
  },
  {
   "cell_type": "code",
   "execution_count": 18,
   "id": "ad41771a",
   "metadata": {},
   "outputs": [
    {
     "data": {
      "text/plain": [
       "tensor([4, 3, 3, 3, 3, 3, 3, 3, 0, 2, 3, 2, 2, 3, 2, 3, 1, 3, 4, 4, 0, 4, 3, 1,\n",
       "        0, 3, 3, 3, 4, 4, 0, 2, 3, 3, 2, 4, 3, 5, 4, 5, 3, 1, 3, 5, 2, 1, 2, 1,\n",
       "        5, 5, 3, 4, 3, 2, 3, 2, 1, 3, 0, 3, 4, 2, 4, 3, 0, 5, 0, 5, 3, 4, 5, 2,\n",
       "        3, 0, 0, 4, 3, 2, 4, 3, 3, 3, 3, 2, 5, 3, 0, 4, 3, 3, 2, 3, 2, 4, 3, 4,\n",
       "        3, 3, 3, 4, 3, 2, 4, 1, 3, 5, 2, 0, 2, 3, 2, 1, 5, 3, 1, 0, 3, 2, 1, 3,\n",
       "        3, 3, 2, 1, 2, 3, 3, 4, 3, 4, 4, 4, 3, 5, 4, 3, 3, 3, 4, 2, 2, 3, 3, 1,\n",
       "        4, 2, 5, 0, 3, 4, 3, 0, 4, 5, 2, 3, 1, 4, 2, 3, 1])"
      ]
     },
     "execution_count": 18,
     "metadata": {},
     "output_type": "execute_result"
    }
   ],
   "source": [
    "y_test"
   ]
  },
  {
   "cell_type": "code",
   "execution_count": 19,
   "id": "9603b2b1",
   "metadata": {},
   "outputs": [
    {
     "name": "stderr",
     "output_type": "stream",
     "text": [
      "  0%|          | 0/3000 [00:00<?, ?it/s]/home/vincent0730/ML_pondlet_level_predictor/venv/lib/python3.6/site-packages/torch/autograd/__init__.py:156: UserWarning: CUDA initialization: Unexpected error from cudaGetDeviceCount(). Did you run some cuda functions before calling NumCudaDevices() that might have already set an error? Error 804: forward compatibility was attempted on non supported HW (Triggered internally at  ../c10/cuda/CUDAFunctions.cpp:112.)\n",
      "  allow_unreachable=True, accumulate_grad=True)  # allow_unreachable flag\n",
      "100%|██████████| 3000/3000 [18:27<00:00,  2.71it/s]\n",
      "100%|██████████| 3000/3000 [17:41<00:00,  2.83it/s]\n",
      "100%|██████████| 3000/3000 [18:28<00:00,  2.71it/s]\n",
      "100%|██████████| 3000/3000 [18:11<00:00,  2.75it/s]\n"
     ]
    }
   ],
   "source": [
    "skf = StratifiedKFold(n_splits=4, random_state=seed, shuffle=True)\n",
    "kfold_train_acc = []\n",
    "kfold_val_acc = []\n",
    "kfold_test_acc = []\n",
    "cf_arrays = []\n",
    "\n",
    "for i, (train_index, val_index) in enumerate(skf.split(X_tmp, y_tmp)):\n",
    "    X_train, X_val = X_tmp[train_index], X_tmp[val_index]\n",
    "    y_train, y_val = y_tmp[train_index], y_tmp[val_index]\n",
    "\n",
    "    X_train = torch.FloatTensor(X_train)\n",
    "    X_val = torch.FloatTensor(X_val)\n",
    "    y_train = torch.LongTensor(y_train)\n",
    "    y_val = torch.LongTensor(y_val)\n",
    "\n",
    "    train = CustomDataset(X_train, y_train)\n",
    "    val = CustomDataset(X_val, y_val)\n",
    "\n",
    "    train_dataloader = DataLoader(train, batch_size=8, shuffle=True)\n",
    "    val_dataloader = DataLoader(val, batch_size=8, shuffle=True)\n",
    "\n",
    "    model     = Model(X_train.shape[1], len(le.classes_))\n",
    "    optimizer = torch.optim.Adam(model.parameters(), lr=0.001)\n",
    "\n",
    "\n",
    "    train_acc_list = []\n",
    "    val_acc_list = []\n",
    "    train_loss_list = []\n",
    "    val_loss_list = []\n",
    "\n",
    "    for _ in tqdm(range(3000)):\n",
    "        train_acc, train_loss = train_one_epoch(train_dataloader, model, optimizer)\n",
    "        train_acc_list.append(train_acc)\n",
    "        train_loss_list.append(train_loss)\n",
    "\n",
    "        val_acc, val_loss = val_one_epoch(val_dataloader, model)\n",
    "        val_acc_list.append(val_acc)\n",
    "        val_loss_list.append(val_loss)\n",
    "\n",
    "    test_acc, cf_array = test_at_final(test_dataloader, model)\n",
    "    cf_arrays.append(cf_array)\n",
    "\n",
    "    kfold_train_acc.append(np.mean(train_acc_list))\n",
    "    kfold_val_acc.append(np.mean(val_acc_list))\n",
    "    kfold_test_acc.append(test_acc)\n",
    "    torch.save(model.state_dict(), f\"model_fold{i}.pt\")\n"
   ]
  },
  {
   "cell_type": "code",
   "execution_count": 20,
   "id": "429aef6e",
   "metadata": {},
   "outputs": [
    {
     "data": {
      "text/plain": [
       "[91.5703086419753, 92.12364197530863, 91.53966049382716, 92.89271604938271]"
      ]
     },
     "execution_count": 20,
     "metadata": {},
     "output_type": "execute_result"
    }
   ],
   "source": [
    "kfold_train_acc"
   ]
  },
  {
   "cell_type": "code",
   "execution_count": 21,
   "id": "eb0b1d2e",
   "metadata": {},
   "outputs": [
    {
     "data": {
      "text/plain": [
       "[81.0712037037037, 80.35083333333333, 79.42981481481482, 79.20287037037038]"
      ]
     },
     "execution_count": 21,
     "metadata": {},
     "output_type": "execute_result"
    }
   ],
   "source": [
    "kfold_val_acc"
   ]
  },
  {
   "cell_type": "code",
   "execution_count": 22,
   "id": "3a6feddb",
   "metadata": {},
   "outputs": [
    {
     "data": {
      "text/plain": [
       "[75.15527950310559, 83.85093167701864, 67.0807453416149, 77.63975155279503]"
      ]
     },
     "execution_count": 22,
     "metadata": {},
     "output_type": "execute_result"
    }
   ],
   "source": [
    "kfold_test_acc"
   ]
  },
  {
   "cell_type": "code",
   "execution_count": 23,
   "id": "c95b3434",
   "metadata": {},
   "outputs": [
    {
     "name": "stdout",
     "output_type": "stream",
     "text": [
      "Lable:0, Count:14\n",
      "Lable:1, Count:14\n",
      "Lable:2, Count:28\n",
      "Lable:3, Count:62\n",
      "Lable:4, Count:29\n",
      "Lable:5, Count:14\n"
     ]
    }
   ],
   "source": [
    "labels, counts = np.unique(y_test, return_counts=True)\n",
    "for l, c in zip(labels, counts):\n",
    "    print(f\"Lable:{l}, Count:{c}\")"
   ]
  },
  {
   "cell_type": "code",
   "execution_count": 24,
   "id": "eb5edcba",
   "metadata": {},
   "outputs": [
    {
     "name": "stdout",
     "output_type": "stream",
     "text": [
      "Baseline acc:38.51\n",
      "4 folds  acc:75.93\n"
     ]
    }
   ],
   "source": [
    "print(f\"Baseline acc:{100*counts.max()/counts.sum():.2f}\")\n",
    "print(f\"4 folds  acc:{np.mean(kfold_test_acc):.2f}\")"
   ]
  },
  {
   "cell_type": "code",
   "execution_count": 25,
   "id": "5ad931f5",
   "metadata": {},
   "outputs": [
    {
     "data": {
      "image/png": "[encoded data removed]",
      "text/plain": [
       "<Figure size 720x504 with 2 Axes>"
      ]
     },
     "metadata": {
      "needs_background": "light"
     },
     "output_type": "display_data"
    },
    {
     "data": {
      "image/png": "[encoded data removed]",
      "text/plain": [
       "<Figure size 720x504 with 2 Axes>"
      ]
     },
     "metadata": {
      "needs_background": "light"
     },
     "output_type": "display_data"
    },
    {
     "data": {
      "image/png": "[encoded data removed]",
      "text/plain": [
       "<Figure size 720x504 with 2 Axes>"
      ]
     },
     "metadata": {
      "needs_background": "light"
     },
     "output_type": "display_data"
    },
    {
     "data": {
      "image/png": "[encoded data removed]",
      "text/plain": [
       "<Figure size 720x504 with 2 Axes>"
      ]
     },
     "metadata": {
      "needs_background": "light"
     },
     "output_type": "display_data"
    }
   ],
   "source": [
    "import seaborn as sn\n",
    "import pandas as pd\n",
    "import matplotlib.pyplot as plt\n",
    "\n",
    "\n",
    "for array in cf_arrays:\n",
    "    df_cm = pd.DataFrame(array, index = le.classes_.tolist(),\n",
    "                    columns = le.classes_.tolist())\n",
    "    plt.figure(figsize = (10,7))\n",
    "    sn.heatmap(df_cm, annot=True, cmap=\"Blues_r\")\n",
    "    plt.xlabel('Pred')\n",
    "    plt.ylabel('True')\n",
    "    plt.show();"
   ]
  },
  {
   "cell_type": "code",
   "execution_count": null,
   "id": "21b9e6eb",
   "metadata": {},
   "outputs": [],
   "source": []
  },
  {
   "cell_type": "code",
   "execution_count": null,
   "id": "72eb33e1",
   "metadata": {},
   "outputs": [],
   "source": []
  }
 ],
 "metadata": {
  "interpreter": {
   "hash": "512607ff7c31323a1dd66289550dafca25ea34cbe421674c5f8c7944c3905019"
  },
  "kernelspec": {
   "display_name": "Python 3.6.9 ('venv': venv)",
   "language": "python",
   "name": "python3"
  },
  "language_info": {
   "codemirror_mode": {
    "name": "ipython",
    "version": 3
   },
   "file_extension": ".py",
   "mimetype": "text/x-python",
   "name": "python",
   "nbconvert_exporter": "python",
   "pygments_lexer": "ipython3",
   "version": "3.6.9"
  }
 },
 "nbformat": 4,
 "nbformat_minor": 5
}
