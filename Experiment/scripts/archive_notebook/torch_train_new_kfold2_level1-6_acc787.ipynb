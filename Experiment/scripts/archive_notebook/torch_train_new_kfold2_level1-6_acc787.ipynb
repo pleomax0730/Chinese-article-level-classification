{
 "cells": [
  {
   "cell_type": "code",
   "execution_count": 238,
   "id": "a535720c",
   "metadata": {},
   "outputs": [],
   "source": [
    "import torch\n",
    "from utils import process_dataset\n",
    "from argparse import ArgumentParser\n",
    "from sklearn.model_selection import train_test_split\n",
    "from sklearn import preprocessing\n",
    "from sklearn.model_selection import StratifiedKFold\n",
    "from sklearn.metrics import confusion_matrix\n",
    "from tqdm import tqdm\n",
    "import numpy as np\n",
    "import random\n",
    "\n",
    "seed = 123\n",
    "torch.manual_seed(seed)\n",
    "random.seed(seed)\n",
    "np.random.seed(seed)"
   ]
  },
  {
   "cell_type": "code",
   "execution_count": 239,
   "id": "ef52c00c",
   "metadata": {},
   "outputs": [
    {
     "name": "stdout",
     "output_type": "stream",
     "text": [
      "datasets ../datasets/pondlet_STB_HSK3_20220429_new.csv\n",
      "len-balance_data(one) 1616\n"
     ]
    }
   ],
   "source": [
    "# datasets = \"../datasets/pondlet_gloss_HSK3_2021-all.csv;../datasets/pondlet_STB_HSK3_2021-all.csv\"\n",
    "datasets = \"../datasets/pondlet_STB_HSK3_20220429_new.csv\"\n",
    "balance_data = process_dataset(datasets)\n",
    "balance_data.drop(\"ID\", inplace=True, axis=1)\n",
    "#balance_data.drop(\"None\", inplace=True, axis=1)\n",
    "#balance_data.drop(\"7-9\", inplace=True, axis=1)"
   ]
  },
  {
   "cell_type": "code",
   "execution_count": 240,
   "id": "1e8ba7ba",
   "metadata": {},
   "outputs": [
    {
     "data": {
      "text/html": [
       "<div>\n",
       "<style scoped>\n",
       "    .dataframe tbody tr th:only-of-type {\n",
       "        vertical-align: middle;\n",
       "    }\n",
       "\n",
       "    .dataframe tbody tr th {\n",
       "        vertical-align: top;\n",
       "    }\n",
       "\n",
       "    .dataframe thead th {\n",
       "        text-align: right;\n",
       "    }\n",
       "</style>\n",
       "<table border=\"1\" class=\"dataframe\">\n",
       "  <thead>\n",
       "    <tr style=\"text-align: right;\">\n",
       "      <th></th>\n",
       "      <th>Label</th>\n",
       "      <th>Length</th>\n",
       "      <th>1</th>\n",
       "      <th>2</th>\n",
       "      <th>3</th>\n",
       "      <th>4</th>\n",
       "      <th>5</th>\n",
       "      <th>6</th>\n",
       "      <th>7-9</th>\n",
       "      <th>None</th>\n",
       "    </tr>\n",
       "  </thead>\n",
       "  <tbody>\n",
       "    <tr>\n",
       "      <th>0</th>\n",
       "      <td>Lv.1</td>\n",
       "      <td>100</td>\n",
       "      <td>48</td>\n",
       "      <td>3</td>\n",
       "      <td>10</td>\n",
       "      <td>0</td>\n",
       "      <td>0</td>\n",
       "      <td>0</td>\n",
       "      <td>8</td>\n",
       "      <td>1</td>\n",
       "    </tr>\n",
       "    <tr>\n",
       "      <th>1</th>\n",
       "      <td>Lv.4</td>\n",
       "      <td>314</td>\n",
       "      <td>107</td>\n",
       "      <td>39</td>\n",
       "      <td>12</td>\n",
       "      <td>13</td>\n",
       "      <td>5</td>\n",
       "      <td>4</td>\n",
       "      <td>22</td>\n",
       "      <td>0</td>\n",
       "    </tr>\n",
       "    <tr>\n",
       "      <th>2</th>\n",
       "      <td>Lv.1</td>\n",
       "      <td>38</td>\n",
       "      <td>24</td>\n",
       "      <td>0</td>\n",
       "      <td>0</td>\n",
       "      <td>0</td>\n",
       "      <td>0</td>\n",
       "      <td>0</td>\n",
       "      <td>0</td>\n",
       "      <td>0</td>\n",
       "    </tr>\n",
       "    <tr>\n",
       "      <th>3</th>\n",
       "      <td>Lv.6</td>\n",
       "      <td>610</td>\n",
       "      <td>166</td>\n",
       "      <td>63</td>\n",
       "      <td>58</td>\n",
       "      <td>36</td>\n",
       "      <td>12</td>\n",
       "      <td>27</td>\n",
       "      <td>24</td>\n",
       "      <td>5</td>\n",
       "    </tr>\n",
       "    <tr>\n",
       "      <th>4</th>\n",
       "      <td>Lv.3</td>\n",
       "      <td>253</td>\n",
       "      <td>85</td>\n",
       "      <td>30</td>\n",
       "      <td>6</td>\n",
       "      <td>4</td>\n",
       "      <td>9</td>\n",
       "      <td>2</td>\n",
       "      <td>4</td>\n",
       "      <td>8</td>\n",
       "    </tr>\n",
       "  </tbody>\n",
       "</table>\n",
       "</div>"
      ],
      "text/plain": [
       "  Label  Length    1   2   3   4   5   6  7-9  None\n",
       "0  Lv.1     100   48   3  10   0   0   0    8     1\n",
       "1  Lv.4     314  107  39  12  13   5   4   22     0\n",
       "2  Lv.1      38   24   0   0   0   0   0    0     0\n",
       "3  Lv.6     610  166  63  58  36  12  27   24     5\n",
       "4  Lv.3     253   85  30   6   4   9   2    4     8"
      ]
     },
     "execution_count": 240,
     "metadata": {},
     "output_type": "execute_result"
    }
   ],
   "source": [
    "balance_data.head()"
   ]
  },
  {
   "cell_type": "code",
   "execution_count": 241,
   "id": "f6dd3f88",
   "metadata": {},
   "outputs": [
    {
     "data": {
      "text/plain": [
       "Lv.4    614\n",
       "Lv.5    304\n",
       "Lv.3    280\n",
       "Lv.2    148\n",
       "Lv.1    136\n",
       "Lv.6    134\n",
       "Name: Label, dtype: int64"
      ]
     },
     "execution_count": 241,
     "metadata": {},
     "output_type": "execute_result"
    }
   ],
   "source": [
    "balance_data.Label.value_counts()"
   ]
  },
  {
   "cell_type": "code",
   "execution_count": 242,
   "id": "d4745ede",
   "metadata": {},
   "outputs": [
    {
     "data": {
      "image/png": "[encoded data removed]",
      "text/plain": [
       "<Figure size 432x288 with 1 Axes>"
      ]
     },
     "metadata": {
      "needs_background": "light"
     },
     "output_type": "display_data"
    }
   ],
   "source": [
    "balance_data.Label.value_counts().plot.bar(rot=0);"
   ]
  },
  {
   "cell_type": "code",
   "execution_count": 243,
   "id": "6440b543",
   "metadata": {},
   "outputs": [
    {
     "name": "stdout",
     "output_type": "stream",
     "text": [
      "['Lv.1' 'Lv.2' 'Lv.3' 'Lv.4' 'Lv.5' 'Lv.6']\n"
     ]
    }
   ],
   "source": [
    "X = balance_data.iloc[:, 1:].to_numpy()\n",
    "\n",
    "le = preprocessing.LabelEncoder()\n",
    "le.fit(balance_data.Label)\n",
    "balance_data['categorical_label'] = le.transform(balance_data.Label)\n",
    "y = balance_data.iloc[:, -1].to_numpy()\n",
    "\n",
    "\n",
    "# ['Lv.1' 'Lv.2' 'Lv.3' 'Lv.4' 'Lv.5' 'Lv.6']\n",
    "print(le.classes_)\n",
    "\n",
    "\n",
    "X_tmp, X_test, y_tmp, y_test = train_test_split(X, y, test_size=0.1, stratify=y, random_state=42)\n",
    "# X_train, X_val, y_train, y_val = train_test_split(X_tmp, y_tmp, test_size=0.1, stratify=y_tmp, random_state=42)"
   ]
  },
  {
   "cell_type": "code",
   "execution_count": 244,
   "id": "25facac4",
   "metadata": {},
   "outputs": [
    {
     "data": {
      "text/plain": [
       "array(['Lv.3'], dtype=object)"
      ]
     },
     "execution_count": 244,
     "metadata": {},
     "output_type": "execute_result"
    }
   ],
   "source": [
    "le.inverse_transform([y_tmp[0]])"
   ]
  },
  {
   "cell_type": "code",
   "execution_count": 245,
   "id": "1ece6ea7",
   "metadata": {},
   "outputs": [
    {
     "data": {
      "text/plain": [
       "['Lv.1', 'Lv.2', 'Lv.3', 'Lv.4', 'Lv.5', 'Lv.6']"
      ]
     },
     "execution_count": 245,
     "metadata": {},
     "output_type": "execute_result"
    }
   ],
   "source": [
    "le.classes_.tolist()"
   ]
  },
  {
   "cell_type": "code",
   "execution_count": 246,
   "id": "2c7e7ce3",
   "metadata": {},
   "outputs": [],
   "source": [
    "import torch\n",
    "import torch.nn.functional as F\n",
    "import torch.nn as nn"
   ]
  },
  {
   "cell_type": "code",
   "execution_count": 247,
   "id": "0dfd247e",
   "metadata": {},
   "outputs": [],
   "source": [
    "class Model(nn.Module):\n",
    "\n",
    "    def __init__(self, input_dim, output_dim):\n",
    "        super(Model, self).__init__()\n",
    "        self.layer1 = nn.Linear(input_dim, 8)\n",
    "        self.layer2 = nn.Linear(8, 16)\n",
    "        self.layer3 = nn.Linear(16, 24)\n",
    "        self.layer4 = nn.Linear(24, 32)\n",
    "        self.layer5 = nn.Linear(32, 64)\n",
    "        self.layer6 = nn.Linear(64, 32)\n",
    "        self.layer7 = nn.Linear(32, 24)\n",
    "        self.layer8 = nn.Linear(24, 16)\n",
    "        self.layer9 = nn.Linear(16, output_dim)\n",
    "\n",
    "    def forward(self, x):\n",
    "        x = F.relu(self.layer1(x))\n",
    "        x = F.relu(self.layer2(x))\n",
    "        x = F.relu(self.layer3(x))\n",
    "        x = F.relu(self.layer4(x))\n",
    "        x = F.relu(self.layer5(x))\n",
    "        x = F.relu(self.layer6(x))\n",
    "        x = F.relu(self.layer7(x))\n",
    "        x = F.relu(self.layer8(x))\n",
    "        return self.layer9(x)\n"
   ]
  },
  {
   "cell_type": "code",
   "execution_count": 248,
   "id": "84eaba13",
   "metadata": {},
   "outputs": [],
   "source": [
    "from torch.utils.data import Dataset\n",
    "\n",
    "\n",
    "class CustomDataset(Dataset):\n",
    "    def __init__(self, x, y):\n",
    "        self.x = x\n",
    "        self.y = y\n",
    "\n",
    "    def __len__(self):\n",
    "        return len(self.x)\n",
    "\n",
    "    def __getitem__(self, idx):        \n",
    "        return self.x[idx], self.y[idx]"
   ]
  },
  {
   "cell_type": "code",
   "execution_count": 249,
   "id": "7fa1c72e",
   "metadata": {},
   "outputs": [],
   "source": [
    "from torch.utils.data import DataLoader\n",
    "\n",
    "X_test = torch.FloatTensor(X_test)\n",
    "y_test = torch.LongTensor(y_test)\n",
    "test = CustomDataset(X_test, y_test)\n",
    "test_dataloader = DataLoader(test, batch_size=1, shuffle=True)"
   ]
  },
  {
   "cell_type": "code",
   "execution_count": 250,
   "id": "aac3cd79",
   "metadata": {},
   "outputs": [],
   "source": [
    "loss_fn   = nn.CrossEntropyLoss()"
   ]
  },
  {
   "cell_type": "code",
   "execution_count": 251,
   "id": "258b6226",
   "metadata": {},
   "outputs": [],
   "source": [
    "def train_one_epoch(train_dataloader, model, optimizer):\n",
    "\n",
    "    train_correct = 0\n",
    "    train_total = 0\n",
    "    train_loss = 0.0\n",
    "\n",
    "    for i, data in enumerate(train_dataloader, 0):\n",
    "\n",
    "        inputs, labels = data\n",
    "\n",
    "        optimizer.zero_grad()\n",
    "        outputs = model(inputs)\n",
    "        loss = loss_fn(outputs, labels)\n",
    "        loss.backward()\n",
    "        optimizer.step()\n",
    "        train_loss += loss.item()\n",
    "\n",
    "        values, indices = torch.max(outputs.data, 1)\n",
    "        train_total += labels.size(0)\n",
    "        train_correct += (indices == labels).sum().item()\n",
    "\n",
    "    acc = 100 * train_correct / train_total\n",
    "    loss = train_loss / len(train_dataloader)\n",
    "    return acc, loss"
   ]
  },
  {
   "cell_type": "code",
   "execution_count": 252,
   "id": "07392bac",
   "metadata": {},
   "outputs": [],
   "source": [
    "def val_one_epoch(val_dataloader, model):\n",
    "\n",
    "    val_correct = 0\n",
    "    val_total = 0\n",
    "    val_loss = 0\n",
    "\n",
    "    with torch.no_grad():\n",
    "\n",
    "        for data in val_dataloader:\n",
    "\n",
    "            inputs, labels = data\n",
    "            outputs = model(inputs)\n",
    "\n",
    "            loss = loss_fn(outputs, labels)\n",
    "            val_loss += loss.item()\n",
    "\n",
    "            values, indices = torch.max(outputs.data, 1)\n",
    "            val_total += labels.size(0)\n",
    "            val_correct += (indices == labels).sum().item()\n",
    "\n",
    "    acc = 100 * val_correct / val_total\n",
    "    loss = val_loss / len(val_dataloader)\n",
    "    return acc, loss"
   ]
  },
  {
   "cell_type": "code",
   "execution_count": 253,
   "id": "9fb4f37e",
   "metadata": {},
   "outputs": [],
   "source": [
    "def test_at_final(test_dataloader, model):\n",
    "\n",
    "    test_correct = 0\n",
    "    test_total = 0\n",
    "    y_true, y_pred = [], []\n",
    "    \n",
    "    with torch.no_grad():\n",
    "\n",
    "        for data in test_dataloader:\n",
    "\n",
    "            inputs, labels = data\n",
    "            outputs = model(inputs)\n",
    "            values, indices = torch.max(outputs.data, 1)\n",
    "            # 忽略label是lv.6，預測不是lv.6的錯誤\n",
    "            # if labels.item() == 5 and indices.item() != 5:\n",
    "            #     continue\n",
    "\n",
    "            # # 忽略label不是lv.6，預測是lv.6的錯誤\n",
    "            # if labels.item() != 5 and indices.item() == 5:\n",
    "            #     continue\n",
    "\n",
    "            test_total += labels.size(0)\n",
    "            test_correct += (indices == labels).sum().item()\n",
    "            \n",
    "\n",
    "            y_true.extend(labels.tolist())\n",
    "            y_pred.extend(indices.tolist())\n",
    "\n",
    "    acc = 100 * test_correct / test_total\n",
    "    array = confusion_matrix(y_true, y_pred)\n",
    "    return acc, array"
   ]
  },
  {
   "cell_type": "code",
   "execution_count": 254,
   "id": "f1d6a391",
   "metadata": {},
   "outputs": [
    {
     "data": {
      "text/plain": [
       "((1454, 9), torch.Size([162, 9]))"
      ]
     },
     "execution_count": 254,
     "metadata": {},
     "output_type": "execute_result"
    }
   ],
   "source": [
    "X_tmp.shape, X_test.shape"
   ]
  },
  {
   "cell_type": "code",
   "execution_count": 255,
   "id": "ad41771a",
   "metadata": {},
   "outputs": [
    {
     "data": {
      "text/plain": [
       "tensor([2, 3, 2, 5, 3, 0, 3, 4, 2, 4, 3, 2, 4, 2, 0, 2, 4, 0, 3, 3, 3, 5, 1, 1,\n",
       "        3, 4, 0, 2, 3, 0, 3, 3, 1, 1, 4, 5, 0, 5, 3, 4, 2, 4, 0, 0, 2, 4, 5, 4,\n",
       "        3, 1, 1, 3, 1, 4, 3, 1, 4, 5, 4, 2, 4, 3, 3, 1, 4, 3, 3, 3, 3, 3, 4, 3,\n",
       "        2, 3, 1, 3, 3, 5, 2, 3, 0, 4, 0, 3, 2, 3, 1, 2, 3, 3, 0, 0, 3, 3, 3, 2,\n",
       "        3, 4, 3, 5, 3, 3, 5, 3, 2, 2, 3, 0, 4, 3, 2, 2, 3, 2, 4, 4, 3, 2, 4, 3,\n",
       "        4, 3, 4, 3, 2, 5, 1, 3, 1, 3, 3, 3, 0, 3, 1, 3, 3, 3, 2, 2, 3, 3, 5, 5,\n",
       "        5, 4, 3, 3, 4, 3, 3, 3, 4, 2, 4, 4, 2, 3, 2, 1, 4, 2])"
      ]
     },
     "execution_count": 255,
     "metadata": {},
     "output_type": "execute_result"
    }
   ],
   "source": [
    "y_test"
   ]
  },
  {
   "cell_type": "code",
   "execution_count": 256,
   "id": "9603b2b1",
   "metadata": {},
   "outputs": [
    {
     "name": "stderr",
     "output_type": "stream",
     "text": [
      "100%|██████████| 3000/3000 [18:57<00:00,  2.64it/s]\n",
      "100%|██████████| 3000/3000 [18:22<00:00,  2.72it/s]\n",
      "100%|██████████| 3000/3000 [18:36<00:00,  2.69it/s]\n",
      "100%|██████████| 3000/3000 [19:12<00:00,  2.60it/s]\n"
     ]
    }
   ],
   "source": [
    "skf = StratifiedKFold(n_splits=4, random_state=seed, shuffle=True)\n",
    "kfold_train_acc = []\n",
    "kfold_val_acc = []\n",
    "kfold_test_acc = []\n",
    "cf_arrays = []\n",
    "\n",
    "for i, (train_index, val_index) in enumerate(skf.split(X_tmp, y_tmp)):\n",
    "    X_train, X_val = X_tmp[train_index], X_tmp[val_index]\n",
    "    y_train, y_val = y_tmp[train_index], y_tmp[val_index]\n",
    "\n",
    "    X_train = torch.FloatTensor(X_train)\n",
    "    X_val = torch.FloatTensor(X_val)\n",
    "    y_train = torch.LongTensor(y_train)\n",
    "    y_val = torch.LongTensor(y_val)\n",
    "\n",
    "    train = CustomDataset(X_train, y_train)\n",
    "    val = CustomDataset(X_val, y_val)\n",
    "\n",
    "    train_dataloader = DataLoader(train, batch_size=8, shuffle=True)\n",
    "    val_dataloader = DataLoader(val, batch_size=8, shuffle=True)\n",
    "\n",
    "    model     = Model(X_train.shape[1], len(le.classes_))\n",
    "    optimizer = torch.optim.Adam(model.parameters(), lr=0.001)\n",
    "\n",
    "\n",
    "    train_acc_list = []\n",
    "    val_acc_list = []\n",
    "    train_loss_list = []\n",
    "    val_loss_list = []\n",
    "\n",
    "    for _ in tqdm(range(3000)):\n",
    "        train_acc, train_loss = train_one_epoch(train_dataloader, model, optimizer)\n",
    "        train_acc_list.append(train_acc)\n",
    "        train_loss_list.append(train_loss)\n",
    "\n",
    "        val_acc, val_loss = val_one_epoch(val_dataloader, model)\n",
    "        val_acc_list.append(val_acc)\n",
    "        val_loss_list.append(val_loss)\n",
    "\n",
    "    test_acc, cf_array = test_at_final(test_dataloader, model)\n",
    "    cf_arrays.append(cf_array)\n",
    "\n",
    "    kfold_train_acc.append(np.mean(train_acc_list))\n",
    "    kfold_val_acc.append(np.mean(val_acc_list))\n",
    "    kfold_test_acc.append(test_acc)\n",
    "    torch.save(model.state_dict(), f\"model_fold{i}.pt\")\n"
   ]
  },
  {
   "cell_type": "code",
   "execution_count": 257,
   "id": "429aef6e",
   "metadata": {},
   "outputs": [
    {
     "data": {
      "text/plain": [
       "[84.19718654434251, 92.69360856269114, 91.0780629391995, 89.8177512985029]"
      ]
     },
     "execution_count": 257,
     "metadata": {},
     "output_type": "execute_result"
    }
   ],
   "source": [
    "kfold_train_acc"
   ]
  },
  {
   "cell_type": "code",
   "execution_count": 258,
   "id": "eb0b1d2e",
   "metadata": {},
   "outputs": [
    {
     "data": {
      "text/plain": [
       "[75.59331501831501, 81.38946886446887, 80.42194674012856, 77.82782369146005]"
      ]
     },
     "execution_count": 258,
     "metadata": {},
     "output_type": "execute_result"
    }
   ],
   "source": [
    "kfold_val_acc"
   ]
  },
  {
   "cell_type": "code",
   "execution_count": 259,
   "id": "3a6feddb",
   "metadata": {},
   "outputs": [
    {
     "data": {
      "text/plain": [
       "[72.22222222222223, 89.50617283950618, 78.39506172839506, 74.69135802469135]"
      ]
     },
     "execution_count": 259,
     "metadata": {},
     "output_type": "execute_result"
    }
   ],
   "source": [
    "kfold_test_acc"
   ]
  },
  {
   "cell_type": "code",
   "execution_count": 260,
   "id": "c95b3434",
   "metadata": {},
   "outputs": [
    {
     "name": "stdout",
     "output_type": "stream",
     "text": [
      "Lable:0, Count:14\n",
      "Lable:1, Count:15\n",
      "Lable:2, Count:28\n",
      "Lable:3, Count:62\n",
      "Lable:4, Count:30\n",
      "Lable:5, Count:13\n"
     ]
    }
   ],
   "source": [
    "labels, counts = np.unique(y_test, return_counts=True)\n",
    "for l, c in zip(labels, counts):\n",
    "    print(f\"Lable:{l}, Count:{c}\")"
   ]
  },
  {
   "cell_type": "code",
   "execution_count": 261,
   "id": "eb5edcba",
   "metadata": {},
   "outputs": [
    {
     "name": "stdout",
     "output_type": "stream",
     "text": [
      "Baseline acc:38.27\n",
      "4 folds  acc:78.70\n"
     ]
    }
   ],
   "source": [
    "print(f\"Baseline acc:{100*counts.max()/counts.sum():.2f}\")\n",
    "print(f\"4 folds  acc:{np.mean(kfold_test_acc):.2f}\")"
   ]
  },
  {
   "cell_type": "code",
   "execution_count": 262,
   "id": "5ad931f5",
   "metadata": {},
   "outputs": [
    {
     "data": {
      "image/png": "[encoded data removed]",
      "text/plain": [
       "<Figure size 720x504 with 2 Axes>"
      ]
     },
     "metadata": {
      "needs_background": "light"
     },
     "output_type": "display_data"
    },
    {
     "data": {
      "image/png": "[encoded data removed]",
      "text/plain": [
       "<Figure size 720x504 with 2 Axes>"
      ]
     },
     "metadata": {
      "needs_background": "light"
     },
     "output_type": "display_data"
    },
    {
     "data": {
      "image/png": "[encoded data removed]",
      "text/plain": [
       "<Figure size 720x504 with 2 Axes>"
      ]
     },
     "metadata": {
      "needs_background": "light"
     },
     "output_type": "display_data"
    },
    {
     "data": {
      "image/png": "[encoded data removed]",
      "text/plain": [
       "<Figure size 720x504 with 2 Axes>"
      ]
     },
     "metadata": {
      "needs_background": "light"
     },
     "output_type": "display_data"
    }
   ],
   "source": [
    "import seaborn as sn\n",
    "import pandas as pd\n",
    "import matplotlib.pyplot as plt\n",
    "\n",
    "\n",
    "for array in cf_arrays:\n",
    "    df_cm = pd.DataFrame(array, index = le.classes_.tolist(),\n",
    "                    columns = le.classes_.tolist())\n",
    "    plt.figure(figsize = (10,7))\n",
    "    sn.heatmap(df_cm, annot=True, cmap=\"Blues_r\")\n",
    "    plt.xlabel('Pred')\n",
    "    plt.ylabel('True')\n",
    "    plt.show();"
   ]
  },
  {
   "cell_type": "code",
   "execution_count": null,
   "id": "21b9e6eb",
   "metadata": {},
   "outputs": [],
   "source": []
  },
  {
   "cell_type": "code",
   "execution_count": null,
   "id": "72eb33e1",
   "metadata": {},
   "outputs": [],
   "source": []
  }
 ],
 "metadata": {
  "kernelspec": {
   "display_name": "Python 3",
   "language": "python",
   "name": "python3"
  },
  "language_info": {
   "codemirror_mode": {
    "name": "ipython",
    "version": 3
   },
   "file_extension": ".py",
   "mimetype": "text/x-python",
   "name": "python",
   "nbconvert_exporter": "python",
   "pygments_lexer": "ipython3",
   "version": "3.6.9"
  }
 },
 "nbformat": 4,
 "nbformat_minor": 5
}
