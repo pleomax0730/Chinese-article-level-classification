{
 "cells": [
  {
   "cell_type": "code",
   "execution_count": 123,
   "id": "a535720c",
   "metadata": {},
   "outputs": [],
   "source": [
    "import torch\n",
    "from utils import process_dataset\n",
    "from argparse import ArgumentParser\n",
    "from sklearn.model_selection import train_test_split\n",
    "from sklearn import preprocessing\n",
    "from sklearn.model_selection import StratifiedKFold\n",
    "from tqdm import tqdm\n",
    "import numpy as np\n",
    "import random\n",
    "\n",
    "seed = 123\n",
    "torch.manual_seed(seed)\n",
    "random.seed(seed)\n",
    "np.random.seed(seed)"
   ]
  },
  {
   "cell_type": "code",
   "execution_count": 124,
   "id": "6440b543",
   "metadata": {},
   "outputs": [
    {
     "name": "stdout",
     "output_type": "stream",
     "text": [
      "datasets ../datasets/pondlet_gloss_HSK3_2021-all.csv;../datasets/pondlet_STB_HSK3_2021-all.csv\n",
      "len-balance_data(files) 1735\n",
      "['Lv.1' 'Lv.2' 'Lv.3' 'Lv.4' 'Lv.5' 'Lv.6']\n"
     ]
    }
   ],
   "source": [
    "datasets = \"../datasets/pondlet_gloss_HSK3_2021-all.csv;../datasets/pondlet_STB_HSK3_2021-all.csv\"\n",
    "balance_data = process_dataset(datasets)\n",
    "balance_data.drop(\"ID\", inplace=True, axis=1)\n",
    "# balance_data.drop(\"None\", inplace=True, axis=1)\n",
    "# balance_data.drop(\"7-9\", inplace=True, axis=1)\n",
    "\n",
    "X = balance_data.iloc[:, 1:].to_numpy()\n",
    "\n",
    "le = preprocessing.LabelEncoder()\n",
    "le.fit(balance_data.Label)\n",
    "balance_data['categorical_label'] = le.transform(balance_data.Label)\n",
    "y = balance_data.iloc[:, -1].to_numpy()\n",
    "\n",
    "\n",
    "# ['Lv.1' 'Lv.2' 'Lv.3' 'Lv.4' 'Lv.5' 'Lv.6']\n",
    "print(le.classes_)\n",
    "\n",
    "\n",
    "X_tmp, X_test, y_tmp, y_test = train_test_split(X, y, test_size=0.1, stratify=y, random_state=42)\n",
    "# X_train, X_val, y_train, y_val = train_test_split(X_tmp, y_tmp, test_size=0.1, stratify=y_tmp, random_state=42)"
   ]
  },
  {
   "cell_type": "code",
   "execution_count": 125,
   "id": "25facac4",
   "metadata": {},
   "outputs": [
    {
     "data": {
      "text/plain": [
       "array(['Lv.6'], dtype=object)"
      ]
     },
     "execution_count": 125,
     "metadata": {},
     "output_type": "execute_result"
    }
   ],
   "source": [
    "le.inverse_transform([y_train[0]])"
   ]
  },
  {
   "cell_type": "code",
   "execution_count": 126,
   "id": "1ece6ea7",
   "metadata": {},
   "outputs": [
    {
     "data": {
      "text/plain": [
       "['Lv.1', 'Lv.2', 'Lv.3', 'Lv.4', 'Lv.5', 'Lv.6']"
      ]
     },
     "execution_count": 126,
     "metadata": {},
     "output_type": "execute_result"
    }
   ],
   "source": [
    "le.classes_.tolist()"
   ]
  },
  {
   "cell_type": "code",
   "execution_count": 127,
   "id": "2c7e7ce3",
   "metadata": {},
   "outputs": [],
   "source": [
    "import torch\n",
    "import torch.nn.functional as F\n",
    "import torch.nn as nn"
   ]
  },
  {
   "cell_type": "code",
   "execution_count": 128,
   "id": "0dfd247e",
   "metadata": {},
   "outputs": [],
   "source": [
    "class Model(nn.Module):\n",
    "\n",
    "    def __init__(self, input_dim, output_dim):\n",
    "        super(Model, self).__init__()\n",
    "        self.layer1 = nn.Linear(input_dim, 8)\n",
    "        self.layer2 = nn.Linear(8, 16)\n",
    "        self.layer3 = nn.Linear(16, output_dim)\n",
    "\n",
    "    def forward(self, x):\n",
    "        x = F.relu(self.layer1(x))\n",
    "        x = F.relu(self.layer2(x))        \n",
    "        return self.layer3(x)\n"
   ]
  },
  {
   "cell_type": "code",
   "execution_count": 129,
   "id": "84eaba13",
   "metadata": {},
   "outputs": [],
   "source": [
    "from torch.utils.data import Dataset\n",
    "\n",
    "\n",
    "class CustomDataset(Dataset):\n",
    "    def __init__(self, x, y):\n",
    "        self.x = x\n",
    "        self.y = y\n",
    "\n",
    "    def __len__(self):\n",
    "        return len(self.x)\n",
    "\n",
    "    def __getitem__(self, idx):        \n",
    "        return self.x[idx], self.y[idx]"
   ]
  },
  {
   "cell_type": "code",
   "execution_count": 130,
   "id": "7fa1c72e",
   "metadata": {},
   "outputs": [],
   "source": [
    "from torch.utils.data import DataLoader\n",
    "\n",
    "X_test = torch.FloatTensor(X_test)\n",
    "y_test = torch.LongTensor(y_test)\n",
    "test = CustomDataset(X_test, y_test)\n",
    "test_dataloader = DataLoader(test, batch_size=8, shuffle=True)"
   ]
  },
  {
   "cell_type": "code",
   "execution_count": 131,
   "id": "aac3cd79",
   "metadata": {},
   "outputs": [],
   "source": [
    "loss_fn   = nn.CrossEntropyLoss()"
   ]
  },
  {
   "cell_type": "code",
   "execution_count": 132,
   "id": "258b6226",
   "metadata": {},
   "outputs": [],
   "source": [
    "def train_one_epoch(train_dataloader, model, optimizer):\n",
    "\n",
    "    train_correct = 0\n",
    "    train_total = 0\n",
    "    train_loss = 0.0\n",
    "\n",
    "    for i, data in enumerate(train_dataloader, 0):\n",
    "\n",
    "        inputs, labels = data\n",
    "\n",
    "        optimizer.zero_grad()\n",
    "        outputs = model(inputs)\n",
    "        loss = loss_fn(outputs, labels)\n",
    "        loss.backward()\n",
    "        optimizer.step()\n",
    "        train_loss += loss.item()\n",
    "\n",
    "        values, indices = torch.max(outputs.data, 1)\n",
    "        train_total += labels.size(0)\n",
    "        train_correct += (indices == labels).sum().item()\n",
    "\n",
    "    acc = 100 * train_correct / train_total\n",
    "    loss = train_loss / len(train_dataloader)\n",
    "    return acc, loss"
   ]
  },
  {
   "cell_type": "code",
   "execution_count": 133,
   "id": "07392bac",
   "metadata": {},
   "outputs": [],
   "source": [
    "def val_one_epoch(val_dataloader, model):\n",
    "\n",
    "    val_correct = 0\n",
    "    val_total = 0\n",
    "    val_loss = 0\n",
    "\n",
    "    with torch.no_grad():\n",
    "\n",
    "        for data in val_dataloader:\n",
    "\n",
    "            inputs, labels = data\n",
    "            outputs = model(inputs)\n",
    "\n",
    "            loss = loss_fn(outputs, labels)\n",
    "            val_loss += loss.item()\n",
    "\n",
    "            values, indices = torch.max(outputs.data, 1)\n",
    "            val_total += labels.size(0)\n",
    "            val_correct += (indices == labels).sum().item()\n",
    "\n",
    "    acc = 100 * val_correct / val_total\n",
    "    loss = val_loss / len(val_dataloader)\n",
    "    return acc, loss"
   ]
  },
  {
   "cell_type": "code",
   "execution_count": 134,
   "id": "9fb4f37e",
   "metadata": {},
   "outputs": [],
   "source": [
    "def test_at_final(test_dataloader, model):\n",
    "\n",
    "    test_correct = 0\n",
    "    test_total = 0\n",
    "    # y_true, y_pred = [], []\n",
    "\n",
    "    with torch.no_grad():\n",
    "        \n",
    "        for data in test_dataloader:\n",
    "\n",
    "            inputs, labels = data\n",
    "            outputs = model(inputs)\n",
    "            values, indices = torch.max(outputs.data, 1)\n",
    "            test_total += labels.size(0)\n",
    "            test_correct += (indices == labels).sum().item()\n",
    "\n",
    "    acc = 100 * test_correct / test_total\n",
    "    return acc"
   ]
  },
  {
   "cell_type": "code",
   "execution_count": 135,
   "id": "9603b2b1",
   "metadata": {},
   "outputs": [
    {
     "name": "stderr",
     "output_type": "stream",
     "text": [
      "100%|██████████| 500/500 [01:24<00:00,  5.94it/s]\n",
      "100%|██████████| 500/500 [01:25<00:00,  5.86it/s]\n",
      "100%|██████████| 500/500 [01:24<00:00,  5.89it/s]\n",
      "100%|██████████| 500/500 [01:26<00:00,  5.79it/s]\n"
     ]
    }
   ],
   "source": [
    "skf = StratifiedKFold(n_splits=4, random_state=seed)\n",
    "kfold_train_acc = []\n",
    "kfold_val_acc = []\n",
    "kfold_test_acc = []\n",
    "\n",
    "for train_index, val_index in skf.split(X_tmp, y_tmp):\n",
    "    X_train, X_val = X_tmp[train_index], X_tmp[val_index]\n",
    "    y_train, y_val = y_tmp[train_index], y_tmp[val_index]\n",
    "\n",
    "    X_train = torch.FloatTensor(X_train)\n",
    "    X_val = torch.FloatTensor(X_val)\n",
    "    y_train = torch.LongTensor(y_train)\n",
    "    y_val = torch.LongTensor(y_val)\n",
    "\n",
    "    train = CustomDataset(X_train, y_train)\n",
    "    val = CustomDataset(X_val, y_val)\n",
    "\n",
    "    train_dataloader = DataLoader(train, batch_size=8, shuffle=True)\n",
    "    val_dataloader = DataLoader(val, batch_size=8, shuffle=True)\n",
    "\n",
    "    model     = Model(X_train.shape[1], len(le.classes_))\n",
    "    optimizer = torch.optim.Adam(model.parameters(), lr=0.001)\n",
    "\n",
    "\n",
    "    train_acc_list = []\n",
    "    val_acc_list = []\n",
    "    train_loss_list = []\n",
    "    val_loss_list = []\n",
    "\n",
    "    for epoch in tqdm(range(500)):\n",
    "        train_acc, train_loss = train_one_epoch(train_dataloader, model, optimizer)\n",
    "        train_acc_list.append(train_acc)\n",
    "        train_loss_list.append(train_loss)\n",
    "\n",
    "        val_acc, val_loss = val_one_epoch(val_dataloader, model)\n",
    "        val_acc_list.append(val_acc)\n",
    "        val_loss_list.append(val_loss)\n",
    "    \n",
    "    test_acc = test_at_final(test_dataloader, model)\n",
    "\n",
    "    kfold_train_acc.append(np.mean(train_acc_list))\n",
    "    kfold_val_acc.append(np.mean(val_acc_list))\n",
    "    kfold_test_acc.append(test_acc)\n"
   ]
  },
  {
   "cell_type": "code",
   "execution_count": 136,
   "id": "96a50809",
   "metadata": {},
   "outputs": [
    {
     "data": {
      "text/plain": [
       "[67.06101113967438, 66.59213675213675, 66.44126172208013, 66.10127877237852]"
      ]
     },
     "execution_count": 136,
     "metadata": {},
     "output_type": "execute_result"
    }
   ],
   "source": [
    "kfold_train_acc"
   ]
  },
  {
   "cell_type": "code",
   "execution_count": 137,
   "id": "5aff3934",
   "metadata": {},
   "outputs": [
    {
     "data": {
      "text/plain": [
       "[63.59796954314721, 66.19795396419437, 63.12371134020618, 64.48453608247422]"
      ]
     },
     "execution_count": 137,
     "metadata": {},
     "output_type": "execute_result"
    }
   ],
   "source": [
    "kfold_val_acc"
   ]
  },
  {
   "cell_type": "code",
   "execution_count": 138,
   "id": "7af32cd5",
   "metadata": {},
   "outputs": [
    {
     "data": {
      "text/plain": [
       "[66.0919540229885, 65.51724137931035, 63.793103448275865, 68.39080459770115]"
      ]
     },
     "execution_count": 138,
     "metadata": {},
     "output_type": "execute_result"
    }
   ],
   "source": [
    "kfold_test_acc"
   ]
  },
  {
   "cell_type": "code",
   "execution_count": 142,
   "id": "c95b3434",
   "metadata": {},
   "outputs": [
    {
     "name": "stdout",
     "output_type": "stream",
     "text": [
      "Lable:0, Count:14\n",
      "Lable:1, Count:15\n",
      "Lable:2, Count:28\n",
      "Lable:3, Count:63\n",
      "Lable:4, Count:33\n",
      "Lable:5, Count:21\n"
     ]
    }
   ],
   "source": [
    "labels, counts = np.unique(y_test, return_counts=True)\n",
    "for l, c in zip(labels, counts):\n",
    "    print(f\"Lable:{l}, Count:{c}\")"
   ]
  },
  {
   "cell_type": "code",
   "execution_count": 145,
   "id": "eb5edcba",
   "metadata": {},
   "outputs": [
    {
     "name": "stdout",
     "output_type": "stream",
     "text": [
      "Baseline acc:36.21\n",
      "4 folds  acc:65.95\n"
     ]
    }
   ],
   "source": [
    "print(f\"Baseline acc:{100*counts.max()/counts.sum():.2f}\")\n",
    "print(f\"4 folds  acc:{np.mean(kfold_test_acc):.2f}\")"
   ]
  },
  {
   "cell_type": "code",
   "execution_count": 18,
   "id": "edb3e23a",
   "metadata": {},
   "outputs": [
    {
     "name": "stderr",
     "output_type": "stream",
     "text": [
      "100%|██████████| 500/500 [01:36<00:00,  5.17it/s]"
     ]
    },
    {
     "name": "stdout",
     "output_type": "stream",
     "text": [
      "Finished Training\n"
     ]
    },
    {
     "name": "stderr",
     "output_type": "stream",
     "text": [
      "\n"
     ]
    }
   ],
   "source": [
    "train_acc_list = []\n",
    "val_acc_list = []\n",
    "train_loss_list = []\n",
    "val_loss_list = []\n",
    "\n",
    "for epoch in tqdm(range(500)):  # loop over the dataset multiple times\n",
    "\n",
    "    train_correct = 0\n",
    "    train_total = 0\n",
    "    train_loss = 0.0\n",
    "    for i, data in enumerate(train_dataloader, 0):\n",
    "\n",
    "        inputs, labels = data\n",
    "\n",
    "        optimizer.zero_grad()\n",
    "        outputs = model(inputs)\n",
    "        loss = loss_fn(outputs, labels)\n",
    "        loss.backward()\n",
    "        optimizer.step()\n",
    "        train_loss += loss.item()\n",
    "\n",
    "        values, indices = torch.max(outputs.data, 1)\n",
    "        train_total += labels.size(0)\n",
    "        train_correct += (indices == labels).sum().item()\n",
    "\n",
    "    train_acc_list.append(100 * train_correct // train_total)\n",
    "    train_loss_list.append(train_loss / len(train_dataloader))\n",
    "\n",
    "    val_correct = 0\n",
    "    val_total = 0\n",
    "    val_loss = 0\n",
    "    with torch.no_grad():\n",
    "        for data in val_dataloader:\n",
    "            inputs, labels = data\n",
    "            outputs = model(inputs)\n",
    "\n",
    "            loss = loss_fn(outputs, labels)\n",
    "            val_loss += loss.item()\n",
    "\n",
    "            values, indices = torch.max(outputs.data, 1)\n",
    "            val_total += labels.size(0)\n",
    "            val_correct += (indices == labels).sum().item()\n",
    "\n",
    "    val_acc_list.append(100 * val_correct // val_total)\n",
    "    val_loss_list.append(val_loss / len(val_dataloader))\n",
    "\n",
    "print('Finished Training')"
   ]
  },
  {
   "cell_type": "code",
   "execution_count": 19,
   "id": "ce8c2a16",
   "metadata": {
    "scrolled": true
   },
   "outputs": [
    {
     "data": {
      "image/png": "[encoded data removed]",
      "text/plain": [
       "<Figure size 432x288 with 1 Axes>"
      ]
     },
     "metadata": {
      "needs_background": "light"
     },
     "output_type": "display_data"
    }
   ],
   "source": [
    "import matplotlib.pyplot as plt\n",
    "\n",
    "plt.plot(train_acc_list)\n",
    "plt.plot(val_acc_list)\n",
    "plt.title('model accuracy')\n",
    "plt.ylabel('accuracy')\n",
    "plt.xlabel('epoch')\n",
    "plt.legend(['Train', 'Validation'], loc='upper left')\n",
    "plt.show()"
   ]
  },
  {
   "cell_type": "code",
   "execution_count": 20,
   "id": "17f7f826",
   "metadata": {},
   "outputs": [
    {
     "data": {
      "image/png": "[encoded data removed]",
      "text/plain": [
       "<Figure size 432x288 with 1 Axes>"
      ]
     },
     "metadata": {
      "needs_background": "light"
     },
     "output_type": "display_data"
    }
   ],
   "source": [
    "plt.plot(train_loss_list)\n",
    "plt.plot(val_loss_list)\n",
    "plt.title('model loss')\n",
    "plt.ylabel('loss')\n",
    "plt.xlabel('epoch')\n",
    "plt.legend(['Train', 'Validation'], loc='upper left')\n",
    "plt.show()"
   ]
  },
  {
   "cell_type": "code",
   "execution_count": 21,
   "id": "668c5e44",
   "metadata": {},
   "outputs": [
    {
     "name": "stdout",
     "output_type": "stream",
     "text": [
      "Accuracy: 68.96551724137932 %\n",
      "test_correct 120\n",
      "test_total 174\n"
     ]
    }
   ],
   "source": [
    "test_correct = 0\n",
    "test_total = 0\n",
    "y_true, y_pred = [], []\n",
    "with torch.no_grad():\n",
    "    for data in test_dataloader:\n",
    "        inputs, labels = data\n",
    "        outputs = model(inputs)\n",
    "        values, indices = torch.max(outputs.data, 1)\n",
    "        test_total += labels.size(0)\n",
    "        test_correct += (indices == labels).sum().item()\n",
    "        \n",
    "        y_true.extend(labels.tolist())\n",
    "        y_pred.extend(indices.tolist())\n",
    "\n",
    "print(f'Accuracy: {100 * test_correct / test_total} %')\n",
    "print(\"test_correct\", test_correct)\n",
    "print(\"test_total\", test_total)"
   ]
  },
  {
   "cell_type": "code",
   "execution_count": 22,
   "id": "b1fce6e4",
   "metadata": {},
   "outputs": [],
   "source": [
    "from sklearn.metrics import confusion_matrix\n",
    "\n",
    "array = confusion_matrix(y_true, y_pred)"
   ]
  },
  {
   "cell_type": "code",
   "execution_count": 23,
   "id": "fde36205",
   "metadata": {},
   "outputs": [
    {
     "data": {
      "image/png": "[encoded data removed]",
      "text/plain": [
       "<Figure size 720x504 with 2 Axes>"
      ]
     },
     "metadata": {
      "needs_background": "light"
     },
     "output_type": "display_data"
    }
   ],
   "source": [
    "import seaborn as sn\n",
    "import pandas as pd\n",
    "import matplotlib.pyplot as plt\n",
    "\n",
    "\n",
    "df_cm = pd.DataFrame(array, index = le.classes_.tolist(),\n",
    "                  columns = le.classes_.tolist())\n",
    "plt.figure(figsize = (10,7))\n",
    "sn.heatmap(df_cm, annot=True)\n",
    "plt.show();"
   ]
  },
  {
   "cell_type": "code",
   "execution_count": 24,
   "id": "f5c96fac",
   "metadata": {},
   "outputs": [
    {
     "name": "stdout",
     "output_type": "stream",
     "text": [
      "              precision    recall  f1-score   support\n",
      "\n",
      "        Lv.1       0.71      0.86      0.77        14\n",
      "        Lv.2       0.56      0.33      0.42        15\n",
      "        Lv.3       0.65      0.71      0.68        28\n",
      "        Lv.4       0.89      0.81      0.85        63\n",
      "        Lv.5       0.54      0.85      0.66        33\n",
      "        Lv.6       0.50      0.19      0.28        21\n",
      "\n",
      "   micro avg       0.69      0.69      0.69       174\n",
      "   macro avg       0.64      0.63      0.61       174\n",
      "weighted avg       0.69      0.69      0.67       174\n",
      "\n"
     ]
    }
   ],
   "source": [
    "from sklearn.metrics import classification_report\n",
    "\n",
    "print(classification_report(y_true, y_pred, target_names=le.classes_.tolist()))"
   ]
  },
  {
   "cell_type": "code",
   "execution_count": 25,
   "id": "9b317b2c",
   "metadata": {},
   "outputs": [],
   "source": [
    "class BinaryModel(nn.Module):\n",
    "\n",
    "    def __init__(self, input_dim, output_dim):\n",
    "        super(BinaryModel, self).__init__()\n",
    "        self.layer1 = nn.Linear(input_dim, 8)\n",
    "        self.layer2 = nn.Linear(8, 16)\n",
    "        self.layer3 = nn.Linear(16, output_dim)\n",
    "\n",
    "    def forward(self, x):\n",
    "        x = F.relu(self.layer1(x))\n",
    "        x = F.relu(self.layer2(x))        \n",
    "        return self.layer3(x)\n",
    "\n",
    "class CLSModel(nn.Module):\n",
    "\n",
    "    def __init__(self, input_dim, output_dim):\n",
    "        super(CLSModel, self).__init__()\n",
    "        self.layer1 = nn.Linear(input_dim, 4)\n",
    "        self.layer2 = nn.Linear(4, 8)\n",
    "        self.layer3 = nn.Linear(8, output_dim)\n",
    "\n",
    "    def forward(self, x):\n",
    "        x = F.relu(self.layer1(x))\n",
    "        x = F.relu(self.layer2(x))        \n",
    "        return self.layer3(x)"
   ]
  },
  {
   "cell_type": "code",
   "execution_count": 26,
   "id": "a742d047",
   "metadata": {},
   "outputs": [
    {
     "data": {
      "text/plain": [
       "Model(\n",
       "  (layer1): Linear(in_features=9, out_features=8, bias=True)\n",
       "  (layer2): Linear(in_features=8, out_features=16, bias=True)\n",
       "  (layer3): Linear(in_features=16, out_features=6, bias=True)\n",
       ")"
      ]
     },
     "execution_count": 26,
     "metadata": {},
     "output_type": "execute_result"
    }
   ],
   "source": [
    "binary_model = BinaryModel(input_dim=9, output_dim=1)\n",
    "binary_model.load_state_dict(torch.load(\"./binary.pt\"))\n",
    "binary_model.eval()\n",
    "\n",
    "cls123_model = CLSModel(input_dim=9, output_dim=3)\n",
    "cls123_model.load_state_dict(torch.load(\"./cls123.pt\"))\n",
    "cls123_model.eval()\n",
    "\n",
    "cls456_model = CLSModel(input_dim=9, output_dim=3)\n",
    "cls456_model.load_state_dict(torch.load(\"./cls456.pt\"))\n",
    "cls456_model.eval()\n",
    "\n",
    "model.eval()"
   ]
  },
  {
   "cell_type": "code",
   "execution_count": 27,
   "id": "f1b79d57",
   "metadata": {},
   "outputs": [],
   "source": [
    "test_correct = 0\n",
    "test_total = 0\n",
    "\n",
    "cls456_mapping = {0:3, 1:4, 2:5}\n",
    "cls123_mapping = {0:0, 1:1, 2:2}\n",
    "y_true_list, y_pred_list = [], []\n",
    "\n",
    "with torch.no_grad():\n",
    "    for data in test_dataloader:\n",
    "        inputs, labels = data\n",
    "        outputs = binary_model(inputs)\n",
    "        cls456_outputs = cls456_model(inputs)\n",
    "        cls123_outputs = cls123_model(inputs)\n",
    "        \n",
    "        y_pred = (torch.sigmoid(outputs.data) > 0.5).float()\n",
    "\n",
    "        for idx, b_y in enumerate(y_pred):\n",
    "            # cls456\n",
    "            if b_y > 0:                \n",
    "                _, max_idx = torch.max(cls456_outputs[idx], dim=0)\n",
    "                y_pred_list.append(cls456_mapping[max_idx.item()])\n",
    "            else:\n",
    "                _, max_idx = torch.max(cls123_outputs[idx], dim=0)\n",
    "                y_pred_list.append(cls123_mapping[max_idx.item()])\n",
    "\n",
    "        y_true_list.extend(labels.tolist())\n"
   ]
  },
  {
   "cell_type": "code",
   "execution_count": 28,
   "id": "e536aeca",
   "metadata": {},
   "outputs": [
    {
     "data": {
      "text/plain": [
       "(174, 174)"
      ]
     },
     "execution_count": 28,
     "metadata": {},
     "output_type": "execute_result"
    }
   ],
   "source": [
    "len(y_true_list), len(y_pred_list)"
   ]
  },
  {
   "cell_type": "code",
   "execution_count": 29,
   "id": "929a92b9",
   "metadata": {},
   "outputs": [
    {
     "data": {
      "text/plain": [
       "0.6264367816091954"
      ]
     },
     "execution_count": 29,
     "metadata": {},
     "output_type": "execute_result"
    }
   ],
   "source": [
    "from sklearn.metrics import accuracy_score\n",
    "\n",
    "accuracy_score(y_true_list, y_pred_list)"
   ]
  },
  {
   "cell_type": "code",
   "execution_count": null,
   "id": "708adb33",
   "metadata": {},
   "outputs": [],
   "source": []
  },
  {
   "cell_type": "code",
   "execution_count": 30,
   "id": "d2416c2e",
   "metadata": {},
   "outputs": [],
   "source": [
    "test_correct = 0\n",
    "test_total = 0\n",
    "\n",
    "cls456_mapping = {0:3, 1:4, 2:5}\n",
    "cls123_mapping = {0:0, 1:1, 2:2}\n",
    "\n",
    "y_true_list, y_pred_list = [], []\n",
    "\n",
    "with torch.no_grad():\n",
    "    for data in test_dataloader:\n",
    "        inputs, labels = data\n",
    "        binary_outputs = binary_model(inputs)\n",
    "        outputs = model(inputs)\n",
    "\n",
    "        y_pred = (torch.sigmoid(binary_outputs.data) > 0.5).float()\n",
    "\n",
    "        for idx, b_y in enumerate(y_pred):\n",
    "            if b_y > 0:\n",
    "                _, max_idx = torch.max(outputs[idx][3:], dim=0)\n",
    "                y_pred_list.append(cls456_mapping[max_idx.item()])\n",
    "            else:\n",
    "                _, max_idx = torch.max(outputs[idx][:3], dim=0)\n",
    "                y_pred_list.append(cls123_mapping[max_idx.item()])\n",
    "\n",
    "        y_true_list.extend(labels.tolist())\n"
   ]
  },
  {
   "cell_type": "code",
   "execution_count": 31,
   "id": "0d967cb6",
   "metadata": {},
   "outputs": [
    {
     "name": "stdout",
     "output_type": "stream",
     "text": [
      "[0, 0, 4, 3, 4, 1, 4, 4, 2, 3, 3, 0, 5, 4, 4, 2, 3, 1, 3, 3, 3, 3, 4, 5, 3, 3, 5, 3, 4, 5, 0, 3, 5, 3, 2, 5, 4, 3, 3, 5, 2, 2, 4, 3, 4, 0, 3, 5, 2, 4, 1, 3, 3, 0, 4, 5, 3, 2, 3, 2, 3, 3, 3, 1, 2, 3, 4, 3, 4, 3, 2, 1, 2, 4, 2, 1, 4, 3, 2, 3, 3, 4, 2, 2, 1, 5, 3, 3, 2, 1, 2, 5, 3, 3, 3, 4, 3, 4, 2, 1, 0, 3, 3, 5, 0, 0, 3, 0, 0, 2, 5, 2, 3, 3, 5, 4, 4, 2, 5, 2, 4, 4, 4, 3, 3, 3, 3, 4, 3, 5, 3, 3, 3, 0, 2, 0, 5, 3, 3, 4, 2, 1, 1, 2, 3, 2, 3, 1, 4, 3, 3, 4, 3, 3, 4, 1, 2, 3, 3, 5, 1, 5, 5, 4, 3, 0, 4, 1, 3, 4, 2, 3, 5, 3]\n"
     ]
    }
   ],
   "source": [
    "print(y_true_list)"
   ]
  },
  {
   "cell_type": "code",
   "execution_count": 32,
   "id": "65e77d6f",
   "metadata": {},
   "outputs": [
    {
     "name": "stdout",
     "output_type": "stream",
     "text": [
      "[2, 0, 4, 3, 3, 1, 4, 4, 2, 3, 3, 0, 4, 4, 4, 2, 3, 2, 3, 3, 3, 3, 4, 4, 3, 3, 5, 3, 4, 4, 0, 3, 4, 3, 3, 4, 4, 3, 3, 4, 2, 3, 4, 3, 4, 0, 3, 4, 2, 4, 1, 3, 3, 0, 4, 4, 3, 2, 4, 2, 4, 4, 3, 0, 2, 3, 4, 3, 5, 3, 2, 0, 3, 5, 2, 2, 4, 3, 2, 4, 3, 4, 2, 1, 2, 4, 3, 3, 3, 1, 2, 4, 3, 3, 2, 4, 3, 4, 3, 3, 0, 3, 3, 4, 0, 0, 4, 0, 0, 1, 4, 2, 3, 3, 5, 4, 4, 1, 4, 2, 4, 4, 4, 3, 3, 3, 2, 4, 3, 4, 3, 5, 4, 0, 2, 1, 5, 3, 3, 4, 2, 1, 1, 0, 3, 2, 3, 0, 4, 3, 4, 5, 3, 3, 4, 0, 3, 3, 3, 4, 2, 4, 5, 4, 2, 0, 4, 2, 3, 4, 2, 3, 4, 3]\n"
     ]
    }
   ],
   "source": [
    "print(y_pred_list)"
   ]
  },
  {
   "cell_type": "code",
   "execution_count": 33,
   "id": "f60ec533",
   "metadata": {},
   "outputs": [
    {
     "data": {
      "text/plain": [
       "0.6896551724137931"
      ]
     },
     "execution_count": 33,
     "metadata": {},
     "output_type": "execute_result"
    }
   ],
   "source": [
    "accuracy_score(y_true_list, y_pred_list)"
   ]
  },
  {
   "cell_type": "code",
   "execution_count": 34,
   "id": "e53d9e57",
   "metadata": {},
   "outputs": [],
   "source": [
    "from sklearn.metrics import confusion_matrix\n",
    "\n",
    "array = confusion_matrix(y_true_list, y_pred_list)"
   ]
  },
  {
   "cell_type": "code",
   "execution_count": 35,
   "id": "10e993bf",
   "metadata": {},
   "outputs": [
    {
     "data": {
      "image/png": "[encoded data removed]",
      "text/plain": [
       "<Figure size 720x504 with 2 Axes>"
      ]
     },
     "metadata": {
      "needs_background": "light"
     },
     "output_type": "display_data"
    }
   ],
   "source": [
    "import seaborn as sn\n",
    "import pandas as pd\n",
    "import matplotlib.pyplot as plt\n",
    "\n",
    "\n",
    "df_cm = pd.DataFrame(array, index = le.classes_.tolist(),\n",
    "                  columns = le.classes_.tolist())\n",
    "plt.figure(figsize = (10,7))\n",
    "sn.heatmap(df_cm, annot=True)\n",
    "plt.show();"
   ]
  },
  {
   "cell_type": "code",
   "execution_count": 36,
   "id": "28379381",
   "metadata": {},
   "outputs": [
    {
     "name": "stdout",
     "output_type": "stream",
     "text": [
      "              precision    recall  f1-score   support\n",
      "\n",
      "        Lv.1       0.71      0.86      0.77        14\n",
      "        Lv.2       0.56      0.33      0.42        15\n",
      "        Lv.3       0.67      0.64      0.65        28\n",
      "        Lv.4       0.87      0.83      0.85        63\n",
      "        Lv.5       0.55      0.88      0.67        33\n",
      "        Lv.6       0.50      0.19      0.28        21\n",
      "\n",
      "   micro avg       0.69      0.69      0.69       174\n",
      "   macro avg       0.64      0.62      0.61       174\n",
      "weighted avg       0.69      0.69      0.67       174\n",
      "\n"
     ]
    }
   ],
   "source": [
    "from sklearn.metrics import classification_report\n",
    "\n",
    "print(classification_report(y_true_list, y_pred_list, target_names=le.classes_.tolist()))"
   ]
  },
  {
   "cell_type": "code",
   "execution_count": null,
   "id": "8b92da1e",
   "metadata": {},
   "outputs": [],
   "source": []
  }
 ],
 "metadata": {
  "kernelspec": {
   "display_name": "Python 3",
   "language": "python",
   "name": "python3"
  },
  "language_info": {
   "codemirror_mode": {
    "name": "ipython",
    "version": 3
   },
   "file_extension": ".py",
   "mimetype": "text/x-python",
   "name": "python",
   "nbconvert_exporter": "python",
   "pygments_lexer": "ipython3",
   "version": "3.6.13"
  }
 },
 "nbformat": 4,
 "nbformat_minor": 5
}
